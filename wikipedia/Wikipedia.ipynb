{
 "cells": [
  {
   "cell_type": "code",
   "execution_count": 2,
   "id": "c0e07646",
   "metadata": {},
   "outputs": [],
   "source": [
    "from pinotdb import connect"
   ]
  },
  {
   "cell_type": "code",
   "execution_count": 7,
   "id": "d7eebfd0",
   "metadata": {},
   "outputs": [],
   "source": [
    "conn = connect(host='localhost', port=9000, path='/sql', scheme='http')"
   ]
  },
  {
   "cell_type": "code",
   "execution_count": 29,
   "id": "4b151fe2",
   "metadata": {},
   "outputs": [
    {
     "data": {
      "text/plain": [
       "<pinotdb.db.Cursor at 0x124717880>"
      ]
     },
     "execution_count": 29,
     "metadata": {},
     "output_type": "execute_result"
    }
   ],
   "source": [
    "curs = conn.cursor()"
   ]
  },
  {
   "cell_type": "code",
   "execution_count": 271,
   "id": "6834914b",
   "metadata": {},
   "outputs": [
    {
     "data": {
      "text/html": [
       "<div>\n",
       "<style scoped>\n",
       "    .dataframe tbody tr th:only-of-type {\n",
       "        vertical-align: middle;\n",
       "    }\n",
       "\n",
       "    .dataframe tbody tr th {\n",
       "        vertical-align: top;\n",
       "    }\n",
       "\n",
       "    .dataframe thead th {\n",
       "        text-align: right;\n",
       "    }\n",
       "</style>\n",
       "<table border=\"1\" class=\"dataframe\">\n",
       "  <thead>\n",
       "    <tr style=\"text-align: right;\">\n",
       "      <th></th>\n",
       "      <th>author</th>\n",
       "      <th>title</th>\n",
       "      <th>changes</th>\n",
       "    </tr>\n",
       "  </thead>\n",
       "  <tbody>\n",
       "    <tr>\n",
       "      <th>0</th>\n",
       "      <td>Transpoman</td>\n",
       "      <td>Category:United States restaurant stubs</td>\n",
       "      <td>2</td>\n",
       "    </tr>\n",
       "    <tr>\n",
       "      <th>1</th>\n",
       "      <td>Wikishovel</td>\n",
       "      <td>Piatra Craiului National Park</td>\n",
       "      <td>2</td>\n",
       "    </tr>\n",
       "    <tr>\n",
       "      <th>2</th>\n",
       "      <td>Transpoman</td>\n",
       "      <td>Category:New York City stubs</td>\n",
       "      <td>2</td>\n",
       "    </tr>\n",
       "    <tr>\n",
       "      <th>3</th>\n",
       "      <td>115.187.41.73</td>\n",
       "      <td>Deputy Director-General</td>\n",
       "      <td>2</td>\n",
       "    </tr>\n",
       "    <tr>\n",
       "      <th>4</th>\n",
       "      <td>Transpoman</td>\n",
       "      <td>Category:New York City restaurant stubs</td>\n",
       "      <td>2</td>\n",
       "    </tr>\n",
       "    <tr>\n",
       "      <th>5</th>\n",
       "      <td>Neveselbert</td>\n",
       "      <td>User talk:Neveselbert</td>\n",
       "      <td>1</td>\n",
       "    </tr>\n",
       "    <tr>\n",
       "      <th>6</th>\n",
       "      <td>ClueBot NG</td>\n",
       "      <td>SCOBY</td>\n",
       "      <td>1</td>\n",
       "    </tr>\n",
       "    <tr>\n",
       "      <th>7</th>\n",
       "      <td>Odecalchi</td>\n",
       "      <td>List of Orientalist artists</td>\n",
       "      <td>1</td>\n",
       "    </tr>\n",
       "    <tr>\n",
       "      <th>8</th>\n",
       "      <td>Englandlove</td>\n",
       "      <td>Category:Web analytics</td>\n",
       "      <td>1</td>\n",
       "    </tr>\n",
       "    <tr>\n",
       "      <th>9</th>\n",
       "      <td>157.193.240.106</td>\n",
       "      <td>Semantic triple</td>\n",
       "      <td>1</td>\n",
       "    </tr>\n",
       "  </tbody>\n",
       "</table>\n",
       "</div>"
      ],
      "text/plain": [
       "            author                                    title  changes\n",
       "0       Transpoman  Category:United States restaurant stubs        2\n",
       "1       Wikishovel            Piatra Craiului National Park        2\n",
       "2       Transpoman             Category:New York City stubs        2\n",
       "3    115.187.41.73                  Deputy Director-General        2\n",
       "4       Transpoman  Category:New York City restaurant stubs        2\n",
       "5      Neveselbert                    User talk:Neveselbert        1\n",
       "6       ClueBot NG                                    SCOBY        1\n",
       "7        Odecalchi              List of Orientalist artists        1\n",
       "8      Englandlove                   Category:Web analytics        1\n",
       "9  157.193.240.106                          Semantic triple        1"
      ]
     },
     "execution_count": 271,
     "metadata": {},
     "output_type": "execute_result"
    }
   ],
   "source": [
    "import pandas as pd\n",
    "\n",
    "curs.execute(\"\"\"\n",
    "select author, title, count(*) changes from wiki\n",
    "where published_mil > now() - 1*60*1000\n",
    "group by author, title\n",
    "order by changes desc\n",
    "limit 10\n",
    "\"\"\")\n",
    "\n",
    "df = pd.DataFrame(curs,\n",
    "                 columns=[item[0] for item in curs.description])\n",
    "df"
   ]
  }
 ],
 "metadata": {
  "kernelspec": {
   "display_name": "Python 3 (ipykernel)",
   "language": "python",
   "name": "python3"
  },
  "language_info": {
   "codemirror_mode": {
    "name": "ipython",
    "version": 3
   },
   "file_extension": ".py",
   "mimetype": "text/x-python",
   "name": "python",
   "nbconvert_exporter": "python",
   "pygments_lexer": "ipython3",
   "version": "3.9.18"
  }
 },
 "nbformat": 4,
 "nbformat_minor": 5
}
