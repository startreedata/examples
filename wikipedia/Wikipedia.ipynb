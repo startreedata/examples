{
 "cells": [
  {
   "cell_type": "code",
   "execution_count": 2,
   "id": "c0e07646",
   "metadata": {},
   "outputs": [],
   "source": [
    "from pinotdb import connect"
   ]
  },
  {
   "cell_type": "code",
   "execution_count": 3,
   "id": "d7eebfd0",
   "metadata": {},
   "outputs": [],
   "source": [
    "conn = connect(host='localhost', port=9000, path='/sql', scheme='http')"
   ]
  },
  {
   "cell_type": "code",
   "execution_count": 4,
   "id": "4b151fe2",
   "metadata": {},
   "outputs": [],
   "source": [
    "curs = conn.cursor()"
   ]
  },
  {
   "cell_type": "code",
   "execution_count": 9,
   "id": "6834914b",
   "metadata": {},
   "outputs": [
    {
     "data": {
      "text/html": [
       "<div>\n",
       "<style scoped>\n",
       "    .dataframe tbody tr th:only-of-type {\n",
       "        vertical-align: middle;\n",
       "    }\n",
       "\n",
       "    .dataframe tbody tr th {\n",
       "        vertical-align: top;\n",
       "    }\n",
       "\n",
       "    .dataframe thead th {\n",
       "        text-align: right;\n",
       "    }\n",
       "</style>\n",
       "<table border=\"1\" class=\"dataframe\">\n",
       "  <thead>\n",
       "    <tr style=\"text-align: right;\">\n",
       "      <th></th>\n",
       "      <th>author</th>\n",
       "      <th>title</th>\n",
       "      <th>changes</th>\n",
       "    </tr>\n",
       "  </thead>\n",
       "  <tbody>\n",
       "    <tr>\n",
       "      <th>0</th>\n",
       "      <td>Bruxton</td>\n",
       "      <td>Template:Did you know nominations/Kantibhai Patel</td>\n",
       "      <td>2</td>\n",
       "    </tr>\n",
       "    <tr>\n",
       "      <th>1</th>\n",
       "      <td>Charles Essie</td>\n",
       "      <td>Category:20 July plot</td>\n",
       "      <td>2</td>\n",
       "    </tr>\n",
       "    <tr>\n",
       "      <th>2</th>\n",
       "      <td>2607:FEA8:A461:4500:70A1:169F:B02F:CF1A</td>\n",
       "      <td>Yogi Ferrell</td>\n",
       "      <td>2</td>\n",
       "    </tr>\n",
       "    <tr>\n",
       "      <th>3</th>\n",
       "      <td>Battalion of allah</td>\n",
       "      <td>Draft:Musab Al-Adani</td>\n",
       "      <td>2</td>\n",
       "    </tr>\n",
       "    <tr>\n",
       "      <th>4</th>\n",
       "      <td>Dominus Moravian</td>\n",
       "      <td>Category:1989 disestablishments in Yugoslavia</td>\n",
       "      <td>1</td>\n",
       "    </tr>\n",
       "    <tr>\n",
       "      <th>5</th>\n",
       "      <td>Srnec</td>\n",
       "      <td>Category:Short description is different from W...</td>\n",
       "      <td>1</td>\n",
       "    </tr>\n",
       "    <tr>\n",
       "      <th>6</th>\n",
       "      <td>Llammakey</td>\n",
       "      <td>Category:Use mdy dates from December 2023</td>\n",
       "      <td>1</td>\n",
       "    </tr>\n",
       "    <tr>\n",
       "      <th>7</th>\n",
       "      <td>Smasongarrison</td>\n",
       "      <td>Category:People by nationality and occupation</td>\n",
       "      <td>1</td>\n",
       "    </tr>\n",
       "    <tr>\n",
       "      <th>8</th>\n",
       "      <td>FireDragonValo</td>\n",
       "      <td>Disobey</td>\n",
       "      <td>1</td>\n",
       "    </tr>\n",
       "    <tr>\n",
       "      <th>9</th>\n",
       "      <td>Brightkingdom</td>\n",
       "      <td>Marand County</td>\n",
       "      <td>1</td>\n",
       "    </tr>\n",
       "  </tbody>\n",
       "</table>\n",
       "</div>"
      ],
      "text/plain": [
       "                                    author  \\\n",
       "0                                  Bruxton   \n",
       "1                            Charles Essie   \n",
       "2  2607:FEA8:A461:4500:70A1:169F:B02F:CF1A   \n",
       "3                       Battalion of allah   \n",
       "4                         Dominus Moravian   \n",
       "5                                    Srnec   \n",
       "6                                Llammakey   \n",
       "7                           Smasongarrison   \n",
       "8                           FireDragonValo   \n",
       "9                            Brightkingdom   \n",
       "\n",
       "                                               title  changes  \n",
       "0  Template:Did you know nominations/Kantibhai Patel        2  \n",
       "1                              Category:20 July plot        2  \n",
       "2                                       Yogi Ferrell        2  \n",
       "3                               Draft:Musab Al-Adani        2  \n",
       "4      Category:1989 disestablishments in Yugoslavia        1  \n",
       "5  Category:Short description is different from W...        1  \n",
       "6          Category:Use mdy dates from December 2023        1  \n",
       "7      Category:People by nationality and occupation        1  \n",
       "8                                            Disobey        1  \n",
       "9                                      Marand County        1  "
      ]
     },
     "execution_count": 9,
     "metadata": {},
     "output_type": "execute_result"
    }
   ],
   "source": [
    "import pandas as pd\n",
    "\n",
    "curs.execute(\"\"\"\n",
    "select author, title, count(*) changes from wiki\n",
    "where published_mil > now() - 1*60*1000\n",
    "group by author, title\n",
    "order by changes desc\n",
    "limit 10\n",
    "\"\"\")\n",
    "\n",
    "df = pd.DataFrame(curs,\n",
    "                 columns=[item[0] for item in curs.description])\n",
    "df"
   ]
  },
  {
   "cell_type": "code",
   "execution_count": 10,
   "id": "6b942849",
   "metadata": {},
   "outputs": [
    {
     "data": {
      "image/png": "[encoded data removed]",
      "text/plain": [
       "<Figure size 432x288 with 1 Axes>"
      ]
     },
     "metadata": {
      "needs_background": "light"
     },
     "output_type": "display_data"
    }
   ],
   "source": [
    "hist = df.plot.barh(\"author\", \"changes\")\n",
    "hist.invert_yaxis()\n"
   ]
  },
  {
   "cell_type": "markdown",
   "id": "b368f46d",
   "metadata": {},
   "source": [
    "In the cell below, you'll see an example of how to dynamically update a chart."
   ]
  },
  {
   "cell_type": "code",
   "execution_count": 14,
   "id": "d0f60e17",
   "metadata": {},
   "outputs": [
    {
     "data": {
      "image/png": "[encoded data removed]",
      "text/plain": [
       "<Figure size 432x288 with 1 Axes>"
      ]
     },
     "metadata": {
      "needs_background": "light"
     },
     "output_type": "display_data"
    }
   ],
   "source": [
    "import matplotlib.pyplot as plt\n",
    "from IPython.display import display, clear_output\n",
    "\n",
    "def data():\n",
    "    curs.execute(\"\"\"\n",
    "    select author, count(*) changes from wiki\n",
    "    where published_mil > now() - 1*60*1000\n",
    "    group by author\n",
    "    order by changes desc\n",
    "    limit 10\n",
    "    \"\"\")\n",
    "\n",
    "    return pd.DataFrame(curs, columns=[item[0] for item in curs.description])\n",
    "\n",
    "\n",
    "import threading\n",
    "def build(refresh:int=5):\n",
    "    hist = data().plot.barh(\"author\", \"changes\")\n",
    "    hist.invert_yaxis()\n",
    "    \n",
    "    display(hist)\n",
    "    \n",
    "    clear_output(wait = True)\n",
    "    plt.pause(0.5)\n",
    "    threading.Timer(refresh, build, [refresh]).start()\n",
    "    \n",
    "build()\n"
   ]
  }
 ],
 "metadata": {
  "kernelspec": {
   "display_name": "Python 3 (ipykernel)",
   "language": "python",
   "name": "python3"
  },
  "language_info": {
   "codemirror_mode": {
    "name": "ipython",
    "version": 3
   },
   "file_extension": ".py",
   "mimetype": "text/x-python",
   "name": "python",
   "nbconvert_exporter": "python",
   "pygments_lexer": "ipython3",
   "version": "3.9.18"
  }
 },
 "nbformat": 4,
 "nbformat_minor": 5
}
