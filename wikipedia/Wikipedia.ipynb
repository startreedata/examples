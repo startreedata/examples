{
 "cells": [
  {
   "cell_type": "code",
   "execution_count": 1,
   "id": "c0e07646",
   "metadata": {},
   "outputs": [],
   "source": [
    "from pinotdb import connect"
   ]
  },
  {
   "cell_type": "code",
   "execution_count": 2,
   "id": "d7eebfd0",
   "metadata": {},
   "outputs": [],
   "source": [
    "conn = connect(host='localhost', port=9000, path='/sql', scheme='http')"
   ]
  },
  {
   "cell_type": "code",
   "execution_count": 3,
   "id": "4b151fe2",
   "metadata": {},
   "outputs": [],
   "source": [
    "curs = conn.cursor()"
   ]
  },
  {
   "cell_type": "code",
   "execution_count": 12,
   "id": "6834914b",
   "metadata": {},
   "outputs": [
    {
     "data": {
      "text/html": [
       "<div>\n",
       "<style scoped>\n",
       "    .dataframe tbody tr th:only-of-type {\n",
       "        vertical-align: middle;\n",
       "    }\n",
       "\n",
       "    .dataframe tbody tr th {\n",
       "        vertical-align: top;\n",
       "    }\n",
       "\n",
       "    .dataframe thead th {\n",
       "        text-align: right;\n",
       "    }\n",
       "</style>\n",
       "<table border=\"1\" class=\"dataframe\">\n",
       "  <thead>\n",
       "    <tr style=\"text-align: right;\">\n",
       "      <th></th>\n",
       "      <th>author</th>\n",
       "      <th>title</th>\n",
       "      <th>changes</th>\n",
       "    </tr>\n",
       "  </thead>\n",
       "  <tbody>\n",
       "    <tr>\n",
       "      <th>0</th>\n",
       "      <td>MIDI</td>\n",
       "      <td>Category:Redirects from moves</td>\n",
       "      <td>2</td>\n",
       "    </tr>\n",
       "    <tr>\n",
       "      <th>1</th>\n",
       "      <td>Mastashat</td>\n",
       "      <td>A H. Mohammed</td>\n",
       "      <td>1</td>\n",
       "    </tr>\n",
       "    <tr>\n",
       "      <th>2</th>\n",
       "      <td>2601:145:481:1810:5CA2:61FF:8965:40B0</td>\n",
       "      <td>Reba (TV series)</td>\n",
       "      <td>1</td>\n",
       "    </tr>\n",
       "    <tr>\n",
       "      <th>3</th>\n",
       "      <td>DeltaQuadBot</td>\n",
       "      <td>Wikipedia:Usernames for administrator attentio...</td>\n",
       "      <td>1</td>\n",
       "    </tr>\n",
       "    <tr>\n",
       "      <th>4</th>\n",
       "      <td>Dahn</td>\n",
       "      <td>Marta Rădulescu</td>\n",
       "      <td>1</td>\n",
       "    </tr>\n",
       "    <tr>\n",
       "      <th>5</th>\n",
       "      <td>EarwigBot</td>\n",
       "      <td>Template:AfC statistics/misplaced</td>\n",
       "      <td>1</td>\n",
       "    </tr>\n",
       "    <tr>\n",
       "      <th>6</th>\n",
       "      <td>Plantdrew</td>\n",
       "      <td>Category:Low-importance Algae articles</td>\n",
       "      <td>1</td>\n",
       "    </tr>\n",
       "    <tr>\n",
       "      <th>7</th>\n",
       "      <td>LeftAlberta1968</td>\n",
       "      <td>Higgins (dog)</td>\n",
       "      <td>1</td>\n",
       "    </tr>\n",
       "    <tr>\n",
       "      <th>8</th>\n",
       "      <td>Buckshot06</td>\n",
       "      <td>RAF Lydda</td>\n",
       "      <td>1</td>\n",
       "    </tr>\n",
       "    <tr>\n",
       "      <th>9</th>\n",
       "      <td>Esculenta</td>\n",
       "      <td>Teloschistaceae</td>\n",
       "      <td>1</td>\n",
       "    </tr>\n",
       "  </tbody>\n",
       "</table>\n",
       "</div>"
      ],
      "text/plain": [
       "                                  author  \\\n",
       "0                                   MIDI   \n",
       "1                              Mastashat   \n",
       "2  2601:145:481:1810:5CA2:61FF:8965:40B0   \n",
       "3                           DeltaQuadBot   \n",
       "4                                   Dahn   \n",
       "5                              EarwigBot   \n",
       "6                              Plantdrew   \n",
       "7                        LeftAlberta1968   \n",
       "8                             Buckshot06   \n",
       "9                              Esculenta   \n",
       "\n",
       "                                               title  changes  \n",
       "0                      Category:Redirects from moves        2  \n",
       "1                                      A H. Mohammed        1  \n",
       "2                                   Reba (TV series)        1  \n",
       "3  Wikipedia:Usernames for administrator attentio...        1  \n",
       "4                                    Marta Rădulescu        1  \n",
       "5                  Template:AfC statistics/misplaced        1  \n",
       "6             Category:Low-importance Algae articles        1  \n",
       "7                                      Higgins (dog)        1  \n",
       "8                                          RAF Lydda        1  \n",
       "9                                    Teloschistaceae        1  "
      ]
     },
     "execution_count": 12,
     "metadata": {},
     "output_type": "execute_result"
    }
   ],
   "source": [
    "import pandas as pd\n",
    "\n",
    "curs.execute(\"\"\"\n",
    "select author, title, count(*) changes from wiki\n",
    "where published_mil > now() - 1*60*1000\n",
    "group by author, title\n",
    "order by changes desc\n",
    "limit 10\n",
    "\"\"\")\n",
    "\n",
    "df = pd.DataFrame(curs,\n",
    "                 columns=[item[0] for item in curs.description])\n",
    "df"
   ]
  },
  {
   "cell_type": "code",
   "execution_count": 13,
   "id": "6b942849",
   "metadata": {},
   "outputs": [
    {
     "data": {
      "image/png": "[encoded data removed]",
      "text/plain": [
       "<Figure size 432x288 with 1 Axes>"
      ]
     },
     "metadata": {
      "needs_background": "light"
     },
     "output_type": "display_data"
    }
   ],
   "source": [
    "hist = df.plot.barh(\"author\", \"changes\")\n",
    "hist.invert_yaxis()\n"
   ]
  },
  {
   "cell_type": "markdown",
   "metadata": {},
   "source": [
    "In the cell below, you'll see an example of how to dynamically update a chart."
   ]
  },
  {
   "cell_type": "code",
   "execution_count": 15,
   "id": "d0f60e17",
   "metadata": {},
   "outputs": [
    {
     "data": {
      "image/png": "[encoded data removed]",
      "text/plain": [
       "<Figure size 432x288 with 1 Axes>"
      ]
     },
     "metadata": {
      "needs_background": "light"
     },
     "output_type": "display_data"
    }
   ],
   "source": [
    "import matplotlib.pyplot as plt\n",
    "from IPython.display import display, clear_output\n",
    "\n",
    "def data():\n",
    "    curs.execute(\"\"\"\n",
    "    select author, count(*) changes from wiki\n",
    "    where published_mil > now() - 1*60*1000\n",
    "    group by author\n",
    "    order by changes desc\n",
    "    limit 10\n",
    "    \"\"\")\n",
    "\n",
    "    return pd.DataFrame(curs, columns=[item[0] for item in curs.description])\n",
    "\n",
    "\n",
    "def build():\n",
    "    hist = data().plot.barh(\"author\", \"changes\")\n",
    "    hist.invert_yaxis()\n",
    "    \n",
    "    display(hist)\n",
    "    \n",
    "    clear_output(wait = True)\n",
    "    plt.pause(0.5)\n",
    "    \n",
    "\n",
    "\n",
    "import threading\n",
    "\n",
    "build()\n",
    "threading.Timer(5, build).start()\n"
   ]
  }
 ],
 "metadata": {
  "kernelspec": {
   "display_name": "Python 3 (ipykernel)",
   "language": "python",
   "name": "python3"
  },
  "language_info": {
   "codemirror_mode": {
    "name": "ipython",
    "version": 3
   },
   "file_extension": ".py",
   "mimetype": "text/x-python",
   "name": "python",
   "nbconvert_exporter": "python",
   "pygments_lexer": "ipython3",
   "version": "3.9.18"
  }
 },
 "nbformat": 4,
 "nbformat_minor": 5
}
